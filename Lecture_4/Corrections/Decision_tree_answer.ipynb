{
  "nbformat": 4,
  "nbformat_minor": 0,
  "metadata": {
    "colab": {
      "name": "Decision_tree_answer.ipynb",
      "provenance": [],
      "collapsed_sections": []
    },
    "kernelspec": {
      "display_name": "Python 3",
      "language": "python",
      "name": "python3"
    },
    "language_info": {
      "codemirror_mode": {
        "name": "ipython",
        "version": 3
      },
      "file_extension": ".py",
      "mimetype": "text/x-python",
      "name": "python",
      "nbconvert_exporter": "python",
      "pygments_lexer": "ipython3",
      "version": "3.6.6"
    }
  },
  "cells": [
    {
      "cell_type": "markdown",
      "metadata": {
        "id": "view-in-github"
      },
      "source": [
        "<a href=\"https://colab.research.google.com/github/MorganGautherot/Machine_Learning_Courses/blob/master/Random_Forest_%26_boosting.ipynb\" target=\"_parent\"><img src=\"https://colab.research.google.com/assets/colab-badge.svg\" alt=\"Open In Colab\"/></a>"
      ]
    },
    {
      "cell_type": "markdown",
      "metadata": {
        "id": "r0bj3IYC6x15"
      },
      "source": [
        "# Decision Tree"
      ]
    },
    {
      "cell_type": "markdown",
      "metadata": {
        "id": "zkyxGbGm67Na"
      },
      "source": [
        "Decision Trees are versatile Machine Learning algorithms that can perform both classification and regression tasks, and even multioutput tasks. They are capable of fitting complex datasets."
      ]
    },
    {
      "cell_type": "markdown",
      "metadata": {
        "id": "06-cGN73-jAr"
      },
      "source": [
        "## Packages importation"
      ]
    },
    {
      "cell_type": "code",
      "metadata": {
        "id": "Jg1VYjs5-g_f"
      },
      "source": [
        "# Importation of the data for our classification example\n",
        "from sklearn.datasets import load_iris\n",
        "\n",
        "# Importation of the data for our regression example\n",
        "from sklearn.datasets import load_boston\n",
        "\n",
        "# Importation of the decision tree algorithm for regression\n",
        "from sklearn.tree import DecisionTreeRegressor\n",
        "\n",
        "# Importation of the decision tree algorithom for classification\n",
        "from sklearn.tree import DecisionTreeClassifier\n",
        "\n",
        "# Importation of tree which contain lot of functions for ou decision tree\n",
        "from sklearn import tree\n",
        "\n",
        "# import the package graphiz to visualize your trees\n",
        "import graphviz \n",
        "\n",
        "# Importation of the train_test_split function which split randomly our data \n",
        "# into a train and test set\n",
        "from sklearn.model_selection import train_test_split\n",
        "\n",
        "# Importation of the maplotlib package to create graphics\n",
        "import matplotlib.pyplot as plt\n",
        "\n",
        "# Importation of numpy to use of vectors, matrices, tensors.\n",
        "import numpy as np "
      ],
      "execution_count": null,
      "outputs": []
    },
    {
      "cell_type": "markdown",
      "metadata": {
        "id": "21FC0cOB_puj"
      },
      "source": [
        "## Classification tree"
      ]
    },
    {
      "cell_type": "markdown",
      "metadata": {
        "id": "CAod8inpeGOB"
      },
      "source": [
        "To understand Decision Trees, let’s just build one and take a look at how it makes predictions."
      ]
    },
    {
      "cell_type": "markdown",
      "metadata": {
        "id": "pCgGyITFdi5M"
      },
      "source": [
        "### Data importation"
      ]
    },
    {
      "cell_type": "code",
      "metadata": {
        "id": "MOAAefC3_rdj"
      },
      "source": [
        "# Data frame for our classification example\n",
        "iris = load_iris()\n",
        "X_clas = iris.data[:, ]\n",
        "y_clas = iris.target\n",
        "\n",
        "X_train_clas, X_test_clas, y_train_clas, y_test_clas = train_test_split(X_clas, \n",
        "                                                                        y_clas, \n",
        "                                                                        test_size=0.10, \n",
        "                                                                        random_state=123)"
      ],
      "execution_count": null,
      "outputs": []
    },
    {
      "cell_type": "markdown",
      "metadata": {
        "id": "3zmDz53kAKy2"
      },
      "source": [
        "### Exercice 1 - Initialization"
      ]
    },
    {
      "cell_type": "markdown",
      "metadata": {
        "id": "2BECmwi2ANVD"
      },
      "source": [
        "You will intialize your first decision tree model for a classification problem. \n",
        "\n",
        "Initialize the learning algorithm so that it creates a tree with the following characteristics: \n",
        "- It will have a maximum depth of 3,\n",
        "- It will have a maximum of 4 leafs,\n",
        "- It will have for seed the value 123,\n",
        "- A minimum of 10 examples will be needed to create a leaf.\n",
        "\n",
        "\n",
        "Don't hesitate to use [sklearn's documentation](https://scikit-learn.org/stable/modules/generated/sklearn.tree.DecisionTreeClassifier.html), all the answers are there."
      ]
    },
    {
      "cell_type": "code",
      "metadata": {
        "id": "OFV7c-ix7PJk"
      },
      "source": [
        "# Initialize your model\n",
        "decision_tree = DecisionTreeClassifier(max_depth=3, \n",
        "                                       max_leaf_nodes=4,\n",
        "                                       random_state=123,\n",
        "                                       min_samples_leaf=10)"
      ],
      "execution_count": null,
      "outputs": []
    },
    {
      "cell_type": "markdown",
      "metadata": {
        "id": "9zTHj2U1CK0Q"
      },
      "source": [
        "### Exercice 2 - Training"
      ]
    },
    {
      "cell_type": "markdown",
      "metadata": {
        "id": "cbfVAF9sCYSW"
      },
      "source": [
        "Now that your algorithm is initialized you can use it to train your model with the train dataset.\n",
        "\n",
        "Don't hesitate to use [sklearn's documentation](https://scikit-learn.org/stable/modules/generated/sklearn.tree.DecisionTreeClassifier.html), all the answers are there."
      ]
    },
    {
      "cell_type": "code",
      "metadata": {
        "colab": {
          "base_uri": "https://localhost:8080/"
        },
        "id": "Qy5ewVLPEKeX",
        "outputId": "fc829a9e-ebea-4c2e-9305-611d1f5c1b23"
      },
      "source": [
        "# Train your model\n",
        "decision_tree.fit(X_train_clas, y_train_clas)"
      ],
      "execution_count": null,
      "outputs": [
        {
          "output_type": "execute_result",
          "data": {
            "text/plain": [
              "DecisionTreeClassifier(ccp_alpha=0.0, class_weight=None, criterion='gini',\n",
              "                       max_depth=3, max_features=None, max_leaf_nodes=4,\n",
              "                       min_impurity_decrease=0.0, min_impurity_split=None,\n",
              "                       min_samples_leaf=10, min_samples_split=2,\n",
              "                       min_weight_fraction_leaf=0.0, presort='deprecated',\n",
              "                       random_state=123, splitter='best')"
            ]
          },
          "metadata": {
            "tags": []
          },
          "execution_count": 36
        }
      ]
    },
    {
      "cell_type": "markdown",
      "metadata": {
        "id": "a2qLQ2WCEUwS"
      },
      "source": [
        "### Exercice 3 - Validate your model"
      ]
    },
    {
      "cell_type": "markdown",
      "metadata": {
        "id": "od1KE3W8EbMC"
      },
      "source": [
        "Now that your model is training it's time to test its performance on the training and test data set.\n",
        "\n",
        "Don't hesitate to use [sklearn's documentation](https://scikit-learn.org/stable/modules/generated/sklearn.tree.DecisionTreeClassifier.html), all the answers are there."
      ]
    },
    {
      "cell_type": "code",
      "metadata": {
        "id": "R-oAJU8aE7RB"
      },
      "source": [
        "# Predict the answer for you training dataset\n",
        "y_pred_train_class = decision_tree.predict(X_train_clas)\n",
        "\n",
        "# Predict the answer for you testing dataset\n",
        "y_pred_test_class = decision_tree.predict(X_test_clas)"
      ],
      "execution_count": null,
      "outputs": []
    },
    {
      "cell_type": "markdown",
      "metadata": {
        "id": "hG2E5J51SlSS"
      },
      "source": [
        "### Exercie 4 - Visualize your tree"
      ]
    },
    {
      "cell_type": "markdown",
      "metadata": {
        "id": "MincowxaVurg"
      },
      "source": [
        "Now that your model is training it's time to visualize your model.\n",
        "\n",
        "Complete the parameters : \n",
        "- feature_names,\n",
        "- class_names,\n",
        "- filled, \n",
        "- rounded.\n",
        "\n",
        "Don't hesitate to use [sklearn's documentation](https://scikit-learn.org/stable/modules/generated/sklearn.tree.export_graphviz.html), all the answers are there."
      ]
    },
    {
      "cell_type": "code",
      "metadata": {
        "colab": {
          "base_uri": "https://localhost:8080/",
          "height": 597
        },
        "id": "QiJEc9zjUxkw",
        "outputId": "d5f37987-0346-4a97-f070-474408329652"
      },
      "source": [
        "# Use export_graphiz to export your model in graphviz.\n",
        "dot_data = tree.export_graphviz(decision_tree,\n",
        "                                feature_names=iris.feature_names,  \n",
        "                                class_names=iris.target_names,  \n",
        "                                filled=True, \n",
        "                                rounded=True)  \n",
        "\n",
        "graph = graphviz.Source(dot_data) \n",
        "\n",
        "graph"
      ],
      "execution_count": null,
      "outputs": [
        {
          "output_type": "execute_result",
          "data": {
            "text/plain": [
              "<graphviz.files.Source at 0x7f680ab177f0>"
            ],
            "image/svg+xml": "<?xml version=\"1.0\" encoding=\"UTF-8\" standalone=\"no\"?>\n<!DOCTYPE svg PUBLIC \"-//W3C//DTD SVG 1.1//EN\"\n \"http://www.w3.org/Graphics/SVG/1.1/DTD/svg11.dtd\">\n<!-- Generated by graphviz version 2.40.1 (20161225.0304)\n -->\n<!-- Title: Tree Pages: 1 -->\n<svg width=\"454pt\" height=\"433pt\"\n viewBox=\"0.00 0.00 454.00 433.00\" xmlns=\"http://www.w3.org/2000/svg\" xmlns:xlink=\"http://www.w3.org/1999/xlink\">\n<g id=\"graph0\" class=\"graph\" transform=\"scale(1 1) rotate(0) translate(4 429)\">\n<title>Tree</title>\n<polygon fill=\"#ffffff\" stroke=\"transparent\" points=\"-4,4 -4,-429 450,-429 450,4 -4,4\"/>\n<!-- 0 -->\n<g id=\"node1\" class=\"node\">\n<title>0</title>\n<path fill=\"#fffefd\" stroke=\"#000000\" d=\"M221.5,-425C221.5,-425 69.5,-425 69.5,-425 63.5,-425 57.5,-419 57.5,-413 57.5,-413 57.5,-354 57.5,-354 57.5,-348 63.5,-342 69.5,-342 69.5,-342 221.5,-342 221.5,-342 227.5,-342 233.5,-348 233.5,-354 233.5,-354 233.5,-413 233.5,-413 233.5,-419 227.5,-425 221.5,-425\"/>\n<text text-anchor=\"middle\" x=\"145.5\" y=\"-409.8\" font-family=\"Helvetica,sans-Serif\" font-size=\"14.00\" fill=\"#000000\">petal length (cm) &lt;= 2.45</text>\n<text text-anchor=\"middle\" x=\"145.5\" y=\"-394.8\" font-family=\"Helvetica,sans-Serif\" font-size=\"14.00\" fill=\"#000000\">gini = 0.667</text>\n<text text-anchor=\"middle\" x=\"145.5\" y=\"-379.8\" font-family=\"Helvetica,sans-Serif\" font-size=\"14.00\" fill=\"#000000\">samples = 135</text>\n<text text-anchor=\"middle\" x=\"145.5\" y=\"-364.8\" font-family=\"Helvetica,sans-Serif\" font-size=\"14.00\" fill=\"#000000\">value = [46, 45, 44]</text>\n<text text-anchor=\"middle\" x=\"145.5\" y=\"-349.8\" font-family=\"Helvetica,sans-Serif\" font-size=\"14.00\" fill=\"#000000\">class = setosa</text>\n</g>\n<!-- 1 -->\n<g id=\"node2\" class=\"node\">\n<title>1</title>\n<path fill=\"#e58139\" stroke=\"#000000\" d=\"M111,-298.5C111,-298.5 12,-298.5 12,-298.5 6,-298.5 0,-292.5 0,-286.5 0,-286.5 0,-242.5 0,-242.5 0,-236.5 6,-230.5 12,-230.5 12,-230.5 111,-230.5 111,-230.5 117,-230.5 123,-236.5 123,-242.5 123,-242.5 123,-286.5 123,-286.5 123,-292.5 117,-298.5 111,-298.5\"/>\n<text text-anchor=\"middle\" x=\"61.5\" y=\"-283.3\" font-family=\"Helvetica,sans-Serif\" font-size=\"14.00\" fill=\"#000000\">gini = 0.0</text>\n<text text-anchor=\"middle\" x=\"61.5\" y=\"-268.3\" font-family=\"Helvetica,sans-Serif\" font-size=\"14.00\" fill=\"#000000\">samples = 46</text>\n<text text-anchor=\"middle\" x=\"61.5\" y=\"-253.3\" font-family=\"Helvetica,sans-Serif\" font-size=\"14.00\" fill=\"#000000\">value = [46, 0, 0]</text>\n<text text-anchor=\"middle\" x=\"61.5\" y=\"-238.3\" font-family=\"Helvetica,sans-Serif\" font-size=\"14.00\" fill=\"#000000\">class = setosa</text>\n</g>\n<!-- 0&#45;&gt;1 -->\n<g id=\"edge1\" class=\"edge\">\n<title>0&#45;&gt;1</title>\n<path fill=\"none\" stroke=\"#000000\" d=\"M116.1209,-341.8796C108.2037,-330.6636 99.6269,-318.5131 91.6675,-307.2372\"/>\n<polygon fill=\"#000000\" stroke=\"#000000\" points=\"94.3486,-304.9662 85.7223,-298.8149 88.6298,-309.003 94.3486,-304.9662\"/>\n<text text-anchor=\"middle\" x=\"81.4746\" y=\"-319.7514\" font-family=\"Helvetica,sans-Serif\" font-size=\"14.00\" fill=\"#000000\">True</text>\n</g>\n<!-- 2 -->\n<g id=\"node3\" class=\"node\">\n<title>2</title>\n<path fill=\"#fbfefc\" stroke=\"#000000\" d=\"M305.5,-306C305.5,-306 153.5,-306 153.5,-306 147.5,-306 141.5,-300 141.5,-294 141.5,-294 141.5,-235 141.5,-235 141.5,-229 147.5,-223 153.5,-223 153.5,-223 305.5,-223 305.5,-223 311.5,-223 317.5,-229 317.5,-235 317.5,-235 317.5,-294 317.5,-294 317.5,-300 311.5,-306 305.5,-306\"/>\n<text text-anchor=\"middle\" x=\"229.5\" y=\"-290.8\" font-family=\"Helvetica,sans-Serif\" font-size=\"14.00\" fill=\"#000000\">petal length (cm) &lt;= 4.85</text>\n<text text-anchor=\"middle\" x=\"229.5\" y=\"-275.8\" font-family=\"Helvetica,sans-Serif\" font-size=\"14.00\" fill=\"#000000\">gini = 0.5</text>\n<text text-anchor=\"middle\" x=\"229.5\" y=\"-260.8\" font-family=\"Helvetica,sans-Serif\" font-size=\"14.00\" fill=\"#000000\">samples = 89</text>\n<text text-anchor=\"middle\" x=\"229.5\" y=\"-245.8\" font-family=\"Helvetica,sans-Serif\" font-size=\"14.00\" fill=\"#000000\">value = [0, 45, 44]</text>\n<text text-anchor=\"middle\" x=\"229.5\" y=\"-230.8\" font-family=\"Helvetica,sans-Serif\" font-size=\"14.00\" fill=\"#000000\">class = versicolor</text>\n</g>\n<!-- 0&#45;&gt;2 -->\n<g id=\"edge2\" class=\"edge\">\n<title>0&#45;&gt;2</title>\n<path fill=\"none\" stroke=\"#000000\" d=\"M174.8791,-341.8796C181.1094,-333.0534 187.7481,-323.6485 194.173,-314.5466\"/>\n<polygon fill=\"#000000\" stroke=\"#000000\" points=\"197.088,-316.4862 199.9955,-306.2981 191.3692,-312.4494 197.088,-316.4862\"/>\n<text text-anchor=\"middle\" x=\"204.2432\" y=\"-327.2346\" font-family=\"Helvetica,sans-Serif\" font-size=\"14.00\" fill=\"#000000\">False</text>\n</g>\n<!-- 3 -->\n<g id=\"node4\" class=\"node\">\n<title>3</title>\n<path fill=\"#42e687\" stroke=\"#000000\" d=\"M196.5,-179.5C196.5,-179.5 92.5,-179.5 92.5,-179.5 86.5,-179.5 80.5,-173.5 80.5,-167.5 80.5,-167.5 80.5,-123.5 80.5,-123.5 80.5,-117.5 86.5,-111.5 92.5,-111.5 92.5,-111.5 196.5,-111.5 196.5,-111.5 202.5,-111.5 208.5,-117.5 208.5,-123.5 208.5,-123.5 208.5,-167.5 208.5,-167.5 208.5,-173.5 202.5,-179.5 196.5,-179.5\"/>\n<text text-anchor=\"middle\" x=\"144.5\" y=\"-164.3\" font-family=\"Helvetica,sans-Serif\" font-size=\"14.00\" fill=\"#000000\">gini = 0.087</text>\n<text text-anchor=\"middle\" x=\"144.5\" y=\"-149.3\" font-family=\"Helvetica,sans-Serif\" font-size=\"14.00\" fill=\"#000000\">samples = 44</text>\n<text text-anchor=\"middle\" x=\"144.5\" y=\"-134.3\" font-family=\"Helvetica,sans-Serif\" font-size=\"14.00\" fill=\"#000000\">value = [0, 42, 2]</text>\n<text text-anchor=\"middle\" x=\"144.5\" y=\"-119.3\" font-family=\"Helvetica,sans-Serif\" font-size=\"14.00\" fill=\"#000000\">class = versicolor</text>\n</g>\n<!-- 2&#45;&gt;3 -->\n<g id=\"edge3\" class=\"edge\">\n<title>2&#45;&gt;3</title>\n<path fill=\"none\" stroke=\"#000000\" d=\"M199.7711,-222.8796C191.7597,-211.6636 183.0808,-199.5131 175.0266,-188.2372\"/>\n<polygon fill=\"#000000\" stroke=\"#000000\" points=\"177.6712,-185.9179 169.0107,-179.8149 171.975,-189.9866 177.6712,-185.9179\"/>\n</g>\n<!-- 4 -->\n<g id=\"node5\" class=\"node\">\n<title>4</title>\n<path fill=\"#8a47e7\" stroke=\"#000000\" d=\"M390.5,-187C390.5,-187 238.5,-187 238.5,-187 232.5,-187 226.5,-181 226.5,-175 226.5,-175 226.5,-116 226.5,-116 226.5,-110 232.5,-104 238.5,-104 238.5,-104 390.5,-104 390.5,-104 396.5,-104 402.5,-110 402.5,-116 402.5,-116 402.5,-175 402.5,-175 402.5,-181 396.5,-187 390.5,-187\"/>\n<text text-anchor=\"middle\" x=\"314.5\" y=\"-171.8\" font-family=\"Helvetica,sans-Serif\" font-size=\"14.00\" fill=\"#000000\">petal length (cm) &lt;= 5.15</text>\n<text text-anchor=\"middle\" x=\"314.5\" y=\"-156.8\" font-family=\"Helvetica,sans-Serif\" font-size=\"14.00\" fill=\"#000000\">gini = 0.124</text>\n<text text-anchor=\"middle\" x=\"314.5\" y=\"-141.8\" font-family=\"Helvetica,sans-Serif\" font-size=\"14.00\" fill=\"#000000\">samples = 45</text>\n<text text-anchor=\"middle\" x=\"314.5\" y=\"-126.8\" font-family=\"Helvetica,sans-Serif\" font-size=\"14.00\" fill=\"#000000\">value = [0, 3, 42]</text>\n<text text-anchor=\"middle\" x=\"314.5\" y=\"-111.8\" font-family=\"Helvetica,sans-Serif\" font-size=\"14.00\" fill=\"#000000\">class = virginica</text>\n</g>\n<!-- 2&#45;&gt;4 -->\n<g id=\"edge4\" class=\"edge\">\n<title>2&#45;&gt;4</title>\n<path fill=\"none\" stroke=\"#000000\" d=\"M259.2289,-222.8796C265.5333,-214.0534 272.251,-204.6485 278.7524,-195.5466\"/>\n<polygon fill=\"#000000\" stroke=\"#000000\" points=\"281.6799,-197.4698 284.6442,-187.2981 275.9837,-193.4011 281.6799,-197.4698\"/>\n</g>\n<!-- 5 -->\n<g id=\"node6\" class=\"node\">\n<title>5</title>\n<path fill=\"#a06aec\" stroke=\"#000000\" d=\"M293,-68C293,-68 194,-68 194,-68 188,-68 182,-62 182,-56 182,-56 182,-12 182,-12 182,-6 188,0 194,0 194,0 293,0 293,0 299,0 305,-6 305,-12 305,-12 305,-56 305,-56 305,-62 299,-68 293,-68\"/>\n<text text-anchor=\"middle\" x=\"243.5\" y=\"-52.8\" font-family=\"Helvetica,sans-Serif\" font-size=\"14.00\" fill=\"#000000\">gini = 0.32</text>\n<text text-anchor=\"middle\" x=\"243.5\" y=\"-37.8\" font-family=\"Helvetica,sans-Serif\" font-size=\"14.00\" fill=\"#000000\">samples = 15</text>\n<text text-anchor=\"middle\" x=\"243.5\" y=\"-22.8\" font-family=\"Helvetica,sans-Serif\" font-size=\"14.00\" fill=\"#000000\">value = [0, 3, 12]</text>\n<text text-anchor=\"middle\" x=\"243.5\" y=\"-7.8\" font-family=\"Helvetica,sans-Serif\" font-size=\"14.00\" fill=\"#000000\">class = virginica</text>\n</g>\n<!-- 4&#45;&gt;5 -->\n<g id=\"edge5\" class=\"edge\">\n<title>4&#45;&gt;5</title>\n<path fill=\"none\" stroke=\"#000000\" d=\"M288.0622,-103.9815C282.444,-95.1585 276.5012,-85.8258 270.8497,-76.9506\"/>\n<polygon fill=\"#000000\" stroke=\"#000000\" points=\"273.6416,-74.8188 265.3181,-68.2637 267.7371,-78.5787 273.6416,-74.8188\"/>\n</g>\n<!-- 6 -->\n<g id=\"node7\" class=\"node\">\n<title>6</title>\n<path fill=\"#8139e5\" stroke=\"#000000\" d=\"M434,-68C434,-68 335,-68 335,-68 329,-68 323,-62 323,-56 323,-56 323,-12 323,-12 323,-6 329,0 335,0 335,0 434,0 434,0 440,0 446,-6 446,-12 446,-12 446,-56 446,-56 446,-62 440,-68 434,-68\"/>\n<text text-anchor=\"middle\" x=\"384.5\" y=\"-52.8\" font-family=\"Helvetica,sans-Serif\" font-size=\"14.00\" fill=\"#000000\">gini = 0.0</text>\n<text text-anchor=\"middle\" x=\"384.5\" y=\"-37.8\" font-family=\"Helvetica,sans-Serif\" font-size=\"14.00\" fill=\"#000000\">samples = 30</text>\n<text text-anchor=\"middle\" x=\"384.5\" y=\"-22.8\" font-family=\"Helvetica,sans-Serif\" font-size=\"14.00\" fill=\"#000000\">value = [0, 0, 30]</text>\n<text text-anchor=\"middle\" x=\"384.5\" y=\"-7.8\" font-family=\"Helvetica,sans-Serif\" font-size=\"14.00\" fill=\"#000000\">class = virginica</text>\n</g>\n<!-- 4&#45;&gt;6 -->\n<g id=\"edge6\" class=\"edge\">\n<title>4&#45;&gt;6</title>\n<path fill=\"none\" stroke=\"#000000\" d=\"M340.5654,-103.9815C346.1045,-95.1585 351.9636,-85.8258 357.5355,-76.9506\"/>\n<polygon fill=\"#000000\" stroke=\"#000000\" points=\"360.6363,-78.594 362.9892,-68.2637 354.7078,-74.872 360.6363,-78.594\"/>\n</g>\n</g>\n</svg>\n"
          },
          "metadata": {
            "tags": []
          },
          "execution_count": 38
        }
      ]
    },
    {
      "cell_type": "markdown",
      "metadata": {
        "id": "kIiIHuFF9pWK"
      },
      "source": [
        "Let’s see how the tree represented in the figure above makes predictions. Suppose you find an iris flower and you want to classify it. You start at the root node (depth 0, at the top): this node asks whether the flower’s petal length is smaller than 2.45 cm. If it is, then you move down to the root’s left child node (depth 1, left). In this case, it is a leaf node (i.e., it does not have any children nodes), so it does not ask any questions: you can simply look at the predicted class for that node and the Decision Tree predicts that your flower is an Iris-Setosa (class=setosa).\n",
        "\n",
        "Now suppose you find another flower, but this time the petal length is greater than 2.45 cm. You must move down to the root’s right child node (depth 1, right), which is not a leaf node, so it asks another question: is the petal length smaller than 4.85 cm ? If it is, then your flower is most likely an Iris-Versicolor (depth 2, left). If not, it is likely an Iris-Virginica (depth 2, right). It’s really that simple."
      ]
    },
    {
      "cell_type": "markdown",
      "metadata": {
        "id": "WnLPnL3q-Ymn"
      },
      "source": [
        "### Decision boundary"
      ]
    },
    {
      "cell_type": "markdown",
      "metadata": {
        "id": "U9p-MamybYRi"
      },
      "source": [
        "You can see below how to visualize the decision boundaries of our tree according to the variables."
      ]
    },
    {
      "cell_type": "code",
      "metadata": {
        "colab": {
          "base_uri": "https://localhost:8080/",
          "height": 287
        },
        "id": "G-wz92yR8ac9",
        "outputId": "dcc44e8e-ddca-4070-883b-657c297ef9c2"
      },
      "source": [
        "# Parameters\n",
        "n_classes = 3\n",
        "plot_colors = \"ryb\"\n",
        "plot_step = 0.02\n",
        "\n",
        "# Load data\n",
        "iris = load_iris()\n",
        "\n",
        "for pairidx, pair in enumerate([[0, 1], [0, 2], [0, 3],\n",
        "                                [1, 2], [1, 3], [2, 3]]):\n",
        "    # We only take the two corresponding features\n",
        "    X = iris.data[:, pair]\n",
        "    y = iris.target\n",
        "\n",
        "    # Train\n",
        "    clf = DecisionTreeClassifier().fit(X, y)\n",
        "\n",
        "    # Plot the decision boundary\n",
        "    plt.subplot(2, 3, pairidx + 1)\n",
        "\n",
        "    x_min, x_max = X[:, 0].min() - 1, X[:, 0].max() + 1\n",
        "    y_min, y_max = X[:, 1].min() - 1, X[:, 1].max() + 1\n",
        "    xx, yy = np.meshgrid(np.arange(x_min, x_max, plot_step),\n",
        "                         np.arange(y_min, y_max, plot_step))\n",
        "    plt.tight_layout(h_pad=0.5, w_pad=0.5, pad=2.5)\n",
        "\n",
        "    Z = clf.predict(np.c_[xx.ravel(), yy.ravel()])\n",
        "    Z = Z.reshape(xx.shape)\n",
        "    cs = plt.contourf(xx, yy, Z, cmap=plt.cm.RdYlBu)\n",
        "\n",
        "    plt.xlabel(iris.feature_names[pair[0]])\n",
        "    plt.ylabel(iris.feature_names[pair[1]])\n",
        "\n",
        "    # Plot the training points\n",
        "    for i, color in zip(range(n_classes), plot_colors):\n",
        "        idx = np.where(y == i)\n",
        "        plt.scatter(X[idx, 0], X[idx, 1], c=color, label=iris.target_names[i],\n",
        "                    cmap=plt.cm.RdYlBu, edgecolor='black', s=15)\n",
        "\n",
        "plt.suptitle(\"Decision surface of a decision tree using paired features\")\n",
        "plt.legend(loc='lower right', borderpad=0, handletextpad=0)\n",
        "plt.axis(\"tight\")\n",
        "plt.show()"
      ],
      "execution_count": null,
      "outputs": [
        {
          "output_type": "display_data",
          "data": {
            "image/png": "[encoded data removed]",
            "text/plain": [
              "<Figure size 432x288 with 6 Axes>"
            ]
          },
          "metadata": {
            "tags": [],
            "needs_background": "light"
          }
        }
      ]
    },
    {
      "cell_type": "markdown",
      "metadata": {
        "id": "SPLhOgabdub0"
      },
      "source": [
        "## Regression tree"
      ]
    },
    {
      "cell_type": "markdown",
      "metadata": {
        "id": "1G1MM8Zvd_9B"
      },
      "source": [
        "### Data importation"
      ]
    },
    {
      "cell_type": "code",
      "metadata": {
        "id": "1FXK_Cwidsgi"
      },
      "source": [
        "# Data frame for ou regression example\n",
        "boston = load_boston()\n",
        "X_reg = boston.data[:, ]\n",
        "y_reg = boston.target\n",
        "\n",
        "X_train_reg, X_test_reg, y_train_reg, y_test_reg = train_test_split(X_reg, y_reg, \n",
        "                                                                    test_size=0.10, \n",
        "                                                                    random_state=123)"
      ],
      "execution_count": null,
      "outputs": []
    },
    {
      "cell_type": "markdown",
      "metadata": {
        "id": "UileGP7veJpn"
      },
      "source": [
        "### Exercice 1 - Initialization\n",
        "\n",
        "You will intialize your first decision tree model for a classification problem. \n",
        "\n",
        "Initialize the learning algorithm so that it creates a tree with the following characteristics: \n",
        "- It will have a maximum depth of 3,\n",
        "- It will have a maximum of 6 leafs,\n",
        "- It will have for seed the value 123,\n",
        "- A minimum of 30 examples will be needed to create a leaf.\n",
        "\n",
        "\n",
        "Don't hesitate to use [sklearn's documentation](https://scikit-learn.org/stable/modules/generated/sklearn.tree.DecisionTreeClassifier.html), all the answers are there."
      ]
    },
    {
      "cell_type": "code",
      "metadata": {
        "id": "cWDhcP1hdsZf"
      },
      "source": [
        "# Initialize your model\n",
        "decision_tree_reg = DecisionTreeRegressor(max_depth=3, \n",
        "                                         max_leaf_nodes=6,\n",
        "                                         random_state=123,\n",
        "                                         min_samples_leaf=30)"
      ],
      "execution_count": null,
      "outputs": []
    },
    {
      "cell_type": "markdown",
      "metadata": {
        "id": "sHhojmDLeQOy"
      },
      "source": [
        "### Exercice 2 - Training"
      ]
    },
    {
      "cell_type": "markdown",
      "metadata": {
        "id": "tJyGo0tUeU6_"
      },
      "source": [
        "Now that your algorithm is initialized you can use it to train your model with the train dataset.\n",
        "\n",
        "\n",
        "Don't hesitate to use [sklearn's documentation](https://scikit-learn.org/stable/modules/generated/sklearn.tree.DecisionTreeClassifier.html), all the answers are there."
      ]
    },
    {
      "cell_type": "code",
      "metadata": {
        "colab": {
          "base_uri": "https://localhost:8080/"
        },
        "id": "LUoxk8HYeQjU",
        "outputId": "72c631af-79e2-4168-ab4c-df90fbbee6cb"
      },
      "source": [
        "# Train your model\n",
        "decision_tree_reg.fit(X_train_reg, y_train_reg)"
      ],
      "execution_count": null,
      "outputs": [
        {
          "output_type": "execute_result",
          "data": {
            "text/plain": [
              "DecisionTreeRegressor(ccp_alpha=0.0, criterion='mse', max_depth=3,\n",
              "                      max_features=None, max_leaf_nodes=6,\n",
              "                      min_impurity_decrease=0.0, min_impurity_split=None,\n",
              "                      min_samples_leaf=30, min_samples_split=2,\n",
              "                      min_weight_fraction_leaf=0.0, presort='deprecated',\n",
              "                      random_state=123, splitter='best')"
            ]
          },
          "metadata": {
            "tags": []
          },
          "execution_count": 60
        }
      ]
    },
    {
      "cell_type": "markdown",
      "metadata": {
        "id": "Wp1G3fZReZUF"
      },
      "source": [
        "### Exercice 3 - Validate your model\n",
        "\n",
        "Now that your model is training it's time to test its performance on the training and test data set.\n",
        "\n",
        "Don't hesitate to use [sklearn's documentation](https://scikit-learn.org/stable/modules/generated/sklearn.tree.DecisionTreeClassifier.html), all the answers are there."
      ]
    },
    {
      "cell_type": "code",
      "metadata": {
        "id": "m30DCG4hecUB"
      },
      "source": [
        "# Predict the answer for you training dataset\n",
        "y_pred_train_reg = decision_tree_reg.predict(X_train_reg)\n",
        "\n",
        "# Predict the answer for you testing dataset\n",
        "y_pred_test_reg = decision_tree_reg.predict(X_test_reg)"
      ],
      "execution_count": null,
      "outputs": []
    },
    {
      "cell_type": "markdown",
      "metadata": {
        "id": "igfeCCDdeePH"
      },
      "source": [
        "### Exercie 4 - Visualize your tree\n",
        "\n",
        "Now that your model is training it's time to visualize your model.\n",
        "\n",
        "Complete the parameters : \n",
        "- feature_names,\n",
        "- class_names,\n",
        "- filled, \n",
        "- rounded.\n",
        "\n",
        "Don't hesitate to use [sklearn's documentation](https://scikit-learn.org/stable/modules/generated/sklearn.tree.export_graphviz.html), all the answers are there."
      ]
    },
    {
      "cell_type": "code",
      "metadata": {
        "colab": {
          "base_uri": "https://localhost:8080/",
          "height": 517
        },
        "id": "AvYooUxVekCI",
        "outputId": "044846e1-a8da-435b-da6f-d17d724d8366"
      },
      "source": [
        "# Use export_graphiz to export your model in graphviz.\n",
        "dot_data = tree.export_graphviz(decision_tree_reg,\n",
        "                                feature_names=boston.feature_names,  \n",
        "                                class_names=\"house_price\",  f\n",
        "                                filled=True, \n",
        "                                rounded=True)  \n",
        "\n",
        "graph = graphviz.Source(dot_data) \n",
        "\n",
        "graph"
      ],
      "execution_count": null,
      "outputs": [
        {
          "output_type": "execute_result",
          "data": {
            "text/plain": [
              "<graphviz.files.Source at 0x7f680b0b52b0>"
            ],
            "image/svg+xml": "<?xml version=\"1.0\" encoding=\"UTF-8\" standalone=\"no\"?>\n<!DOCTYPE svg PUBLIC \"-//W3C//DTD SVG 1.1//EN\"\n \"http://www.w3.org/Graphics/SVG/1.1/DTD/svg11.dtd\">\n<!-- Generated by graphviz version 2.40.1 (20161225.0304)\n -->\n<!-- Title: Tree Pages: 1 -->\n<svg width=\"508pt\" height=\"373pt\"\n viewBox=\"0.00 0.00 507.50 373.00\" xmlns=\"http://www.w3.org/2000/svg\" xmlns:xlink=\"http://www.w3.org/1999/xlink\">\n<g id=\"graph0\" class=\"graph\" transform=\"scale(1 1) rotate(0) translate(4 369)\">\n<title>Tree</title>\n<polygon fill=\"#ffffff\" stroke=\"transparent\" points=\"-4,4 -4,-369 503.5,-369 503.5,4 -4,4\"/>\n<!-- 0 -->\n<g id=\"node1\" class=\"node\">\n<title>0</title>\n<path fill=\"#f5ceb2\" stroke=\"#000000\" d=\"M360.5,-365C360.5,-365 271.5,-365 271.5,-365 265.5,-365 259.5,-359 259.5,-353 259.5,-353 259.5,-309 259.5,-309 259.5,-303 265.5,-297 271.5,-297 271.5,-297 360.5,-297 360.5,-297 366.5,-297 372.5,-303 372.5,-309 372.5,-309 372.5,-353 372.5,-353 372.5,-359 366.5,-365 360.5,-365\"/>\n<text text-anchor=\"middle\" x=\"316\" y=\"-349.8\" font-family=\"Helvetica,sans-Serif\" font-size=\"14.00\" fill=\"#000000\">RM &lt;= 6.978</text>\n<text text-anchor=\"middle\" x=\"316\" y=\"-334.8\" font-family=\"Helvetica,sans-Serif\" font-size=\"14.00\" fill=\"#000000\">mse = 80.258</text>\n<text text-anchor=\"middle\" x=\"316\" y=\"-319.8\" font-family=\"Helvetica,sans-Serif\" font-size=\"14.00\" fill=\"#000000\">samples = 455</text>\n<text text-anchor=\"middle\" x=\"316\" y=\"-304.8\" font-family=\"Helvetica,sans-Serif\" font-size=\"14.00\" fill=\"#000000\">value = 22.247</text>\n</g>\n<!-- 1 -->\n<g id=\"node2\" class=\"node\">\n<title>1</title>\n<path fill=\"#f7d9c4\" stroke=\"#000000\" d=\"M295.5,-261C295.5,-261 206.5,-261 206.5,-261 200.5,-261 194.5,-255 194.5,-249 194.5,-249 194.5,-205 194.5,-205 194.5,-199 200.5,-193 206.5,-193 206.5,-193 295.5,-193 295.5,-193 301.5,-193 307.5,-199 307.5,-205 307.5,-205 307.5,-249 307.5,-249 307.5,-255 301.5,-261 295.5,-261\"/>\n<text text-anchor=\"middle\" x=\"251\" y=\"-245.8\" font-family=\"Helvetica,sans-Serif\" font-size=\"14.00\" fill=\"#000000\">LSTAT &lt;= 15.0</text>\n<text text-anchor=\"middle\" x=\"251\" y=\"-230.8\" font-family=\"Helvetica,sans-Serif\" font-size=\"14.00\" fill=\"#000000\">mse = 38.466</text>\n<text text-anchor=\"middle\" x=\"251\" y=\"-215.8\" font-family=\"Helvetica,sans-Serif\" font-size=\"14.00\" fill=\"#000000\">samples = 397</text>\n<text text-anchor=\"middle\" x=\"251\" y=\"-200.8\" font-family=\"Helvetica,sans-Serif\" font-size=\"14.00\" fill=\"#000000\">value = 19.877</text>\n</g>\n<!-- 0&#45;&gt;1 -->\n<g id=\"edge1\" class=\"edge\">\n<title>0&#45;&gt;1</title>\n<path fill=\"none\" stroke=\"#000000\" d=\"M294.7166,-296.9465C289.2733,-288.2373 283.3516,-278.7626 277.675,-269.6801\"/>\n<polygon fill=\"#000000\" stroke=\"#000000\" points=\"280.5993,-267.755 272.3312,-261.13 274.6633,-271.465 280.5993,-267.755\"/>\n<text text-anchor=\"middle\" x=\"266.7098\" y=\"-281.7898\" font-family=\"Helvetica,sans-Serif\" font-size=\"14.00\" fill=\"#000000\">True</text>\n</g>\n<!-- 2 -->\n<g id=\"node9\" class=\"node\">\n<title>2</title>\n<path fill=\"#e58139\" stroke=\"#000000\" d=\"M426.5,-253.5C426.5,-253.5 337.5,-253.5 337.5,-253.5 331.5,-253.5 325.5,-247.5 325.5,-241.5 325.5,-241.5 325.5,-212.5 325.5,-212.5 325.5,-206.5 331.5,-200.5 337.5,-200.5 337.5,-200.5 426.5,-200.5 426.5,-200.5 432.5,-200.5 438.5,-206.5 438.5,-212.5 438.5,-212.5 438.5,-241.5 438.5,-241.5 438.5,-247.5 432.5,-253.5 426.5,-253.5\"/>\n<text text-anchor=\"middle\" x=\"382\" y=\"-238.3\" font-family=\"Helvetica,sans-Serif\" font-size=\"14.00\" fill=\"#000000\">mse = 64.534</text>\n<text text-anchor=\"middle\" x=\"382\" y=\"-223.3\" font-family=\"Helvetica,sans-Serif\" font-size=\"14.00\" fill=\"#000000\">samples = 58</text>\n<text text-anchor=\"middle\" x=\"382\" y=\"-208.3\" font-family=\"Helvetica,sans-Serif\" font-size=\"14.00\" fill=\"#000000\">value = 38.474</text>\n</g>\n<!-- 0&#45;&gt;2 -->\n<g id=\"edge8\" class=\"edge\">\n<title>0&#45;&gt;2</title>\n<path fill=\"none\" stroke=\"#000000\" d=\"M337.6109,-296.9465C344.671,-285.8215 352.5239,-273.4473 359.6381,-262.237\"/>\n<polygon fill=\"#000000\" stroke=\"#000000\" points=\"362.7528,-263.8609 365.1559,-253.5422 356.8425,-260.1101 362.7528,-263.8609\"/>\n<text text-anchor=\"middle\" x=\"370.6096\" y=\"-274.2401\" font-family=\"Helvetica,sans-Serif\" font-size=\"14.00\" fill=\"#000000\">False</text>\n</g>\n<!-- 3 -->\n<g id=\"node3\" class=\"node\">\n<title>3</title>\n<path fill=\"#f4caac\" stroke=\"#000000\" d=\"M229.5,-157C229.5,-157 140.5,-157 140.5,-157 134.5,-157 128.5,-151 128.5,-145 128.5,-145 128.5,-101 128.5,-101 128.5,-95 134.5,-89 140.5,-89 140.5,-89 229.5,-89 229.5,-89 235.5,-89 241.5,-95 241.5,-101 241.5,-101 241.5,-145 241.5,-145 241.5,-151 235.5,-157 229.5,-157\"/>\n<text text-anchor=\"middle\" x=\"185\" y=\"-141.8\" font-family=\"Helvetica,sans-Serif\" font-size=\"14.00\" fill=\"#000000\">RM &lt;= 6.543</text>\n<text text-anchor=\"middle\" x=\"185\" y=\"-126.8\" font-family=\"Helvetica,sans-Serif\" font-size=\"14.00\" fill=\"#000000\">mse = 22.514</text>\n<text text-anchor=\"middle\" x=\"185\" y=\"-111.8\" font-family=\"Helvetica,sans-Serif\" font-size=\"14.00\" fill=\"#000000\">samples = 249</text>\n<text text-anchor=\"middle\" x=\"185\" y=\"-96.8\" font-family=\"Helvetica,sans-Serif\" font-size=\"14.00\" fill=\"#000000\">value = 23.075</text>\n</g>\n<!-- 1&#45;&gt;3 -->\n<g id=\"edge2\" class=\"edge\">\n<title>1&#45;&gt;3</title>\n<path fill=\"none\" stroke=\"#000000\" d=\"M229.3891,-192.9465C223.8622,-184.2373 217.8494,-174.7626 212.0854,-165.6801\"/>\n<polygon fill=\"#000000\" stroke=\"#000000\" points=\"214.9729,-163.6979 206.6594,-157.13 209.0626,-167.4487 214.9729,-163.6979\"/>\n</g>\n<!-- 4 -->\n<g id=\"node6\" class=\"node\">\n<title>4</title>\n<path fill=\"#fcf3ec\" stroke=\"#000000\" d=\"M362,-157C362,-157 272,-157 272,-157 266,-157 260,-151 260,-145 260,-145 260,-101 260,-101 260,-95 266,-89 272,-89 272,-89 362,-89 362,-89 368,-89 374,-95 374,-101 374,-101 374,-145 374,-145 374,-151 368,-157 362,-157\"/>\n<text text-anchor=\"middle\" x=\"317\" y=\"-141.8\" font-family=\"Helvetica,sans-Serif\" font-size=\"14.00\" fill=\"#000000\">CRIM &lt;= 5.769</text>\n<text text-anchor=\"middle\" x=\"317\" y=\"-126.8\" font-family=\"Helvetica,sans-Serif\" font-size=\"14.00\" fill=\"#000000\">mse = 19.146</text>\n<text text-anchor=\"middle\" x=\"317\" y=\"-111.8\" font-family=\"Helvetica,sans-Serif\" font-size=\"14.00\" fill=\"#000000\">samples = 148</text>\n<text text-anchor=\"middle\" x=\"317\" y=\"-96.8\" font-family=\"Helvetica,sans-Serif\" font-size=\"14.00\" fill=\"#000000\">value = 14.496</text>\n</g>\n<!-- 1&#45;&gt;4 -->\n<g id=\"edge5\" class=\"edge\">\n<title>1&#45;&gt;4</title>\n<path fill=\"none\" stroke=\"#000000\" d=\"M272.6109,-192.9465C278.1378,-184.2373 284.1506,-174.7626 289.9146,-165.6801\"/>\n<polygon fill=\"#000000\" stroke=\"#000000\" points=\"292.9374,-167.4487 295.3406,-157.13 287.0271,-163.6979 292.9374,-167.4487\"/>\n</g>\n<!-- 5 -->\n<g id=\"node4\" class=\"node\">\n<title>5</title>\n<path fill=\"#f5d0b6\" stroke=\"#000000\" d=\"M100,-53C100,-53 12,-53 12,-53 6,-53 0,-47 0,-41 0,-41 0,-12 0,-12 0,-6 6,0 12,0 12,0 100,0 100,0 106,0 112,-6 112,-12 112,-12 112,-41 112,-41 112,-47 106,-53 100,-53\"/>\n<text text-anchor=\"middle\" x=\"56\" y=\"-37.8\" font-family=\"Helvetica,sans-Serif\" font-size=\"14.00\" fill=\"#000000\">mse = 16.748</text>\n<text text-anchor=\"middle\" x=\"56\" y=\"-22.8\" font-family=\"Helvetica,sans-Serif\" font-size=\"14.00\" fill=\"#000000\">samples = 193</text>\n<text text-anchor=\"middle\" x=\"56\" y=\"-7.8\" font-family=\"Helvetica,sans-Serif\" font-size=\"14.00\" fill=\"#000000\">value = 21.75</text>\n</g>\n<!-- 3&#45;&gt;5 -->\n<g id=\"edge3\" class=\"edge\">\n<title>3&#45;&gt;5</title>\n<path fill=\"none\" stroke=\"#000000\" d=\"M139.5194,-88.9777C126.6665,-79.3629 112.7069,-68.9203 99.946,-59.3743\"/>\n<polygon fill=\"#000000\" stroke=\"#000000\" points=\"101.861,-56.436 91.757,-53.2485 97.668,-62.0412 101.861,-56.436\"/>\n</g>\n<!-- 6 -->\n<g id=\"node5\" class=\"node\">\n<title>6</title>\n<path fill=\"#f0b48a\" stroke=\"#000000\" d=\"M231.5,-53C231.5,-53 142.5,-53 142.5,-53 136.5,-53 130.5,-47 130.5,-41 130.5,-41 130.5,-12 130.5,-12 130.5,-6 136.5,0 142.5,0 142.5,0 231.5,0 231.5,0 237.5,0 243.5,-6 243.5,-12 243.5,-12 243.5,-41 243.5,-41 243.5,-47 237.5,-53 231.5,-53\"/>\n<text text-anchor=\"middle\" x=\"187\" y=\"-37.8\" font-family=\"Helvetica,sans-Serif\" font-size=\"14.00\" fill=\"#000000\">mse = 15.485</text>\n<text text-anchor=\"middle\" x=\"187\" y=\"-22.8\" font-family=\"Helvetica,sans-Serif\" font-size=\"14.00\" fill=\"#000000\">samples = 56</text>\n<text text-anchor=\"middle\" x=\"187\" y=\"-7.8\" font-family=\"Helvetica,sans-Serif\" font-size=\"14.00\" fill=\"#000000\">value = 27.641</text>\n</g>\n<!-- 3&#45;&gt;6 -->\n<g id=\"edge4\" class=\"edge\">\n<title>3&#45;&gt;6</title>\n<path fill=\"none\" stroke=\"#000000\" d=\"M185.7051,-88.9777C185.8759,-80.7364 186.0593,-71.887 186.2328,-63.5153\"/>\n<polygon fill=\"#000000\" stroke=\"#000000\" points=\"189.7376,-63.3189 186.4456,-53.2485 182.7391,-63.1738 189.7376,-63.3189\"/>\n</g>\n<!-- 7 -->\n<g id=\"node7\" class=\"node\">\n<title>7</title>\n<path fill=\"#fae7d9\" stroke=\"#000000\" d=\"M356.5,-53C356.5,-53 275.5,-53 275.5,-53 269.5,-53 263.5,-47 263.5,-41 263.5,-41 263.5,-12 263.5,-12 263.5,-6 269.5,0 275.5,0 275.5,0 356.5,0 356.5,0 362.5,0 368.5,-6 368.5,-12 368.5,-12 368.5,-41 368.5,-41 368.5,-47 362.5,-53 356.5,-53\"/>\n<text text-anchor=\"middle\" x=\"316\" y=\"-37.8\" font-family=\"Helvetica,sans-Serif\" font-size=\"14.00\" fill=\"#000000\">mse = 11.771</text>\n<text text-anchor=\"middle\" x=\"316\" y=\"-22.8\" font-family=\"Helvetica,sans-Serif\" font-size=\"14.00\" fill=\"#000000\">samples = 74</text>\n<text text-anchor=\"middle\" x=\"316\" y=\"-7.8\" font-family=\"Helvetica,sans-Serif\" font-size=\"14.00\" fill=\"#000000\">value = 17.05</text>\n</g>\n<!-- 4&#45;&gt;7 -->\n<g id=\"edge6\" class=\"edge\">\n<title>4&#45;&gt;7</title>\n<path fill=\"none\" stroke=\"#000000\" d=\"M316.6474,-88.9777C316.562,-80.7364 316.4703,-71.887 316.3836,-63.5153\"/>\n<polygon fill=\"#000000\" stroke=\"#000000\" points=\"319.8807,-63.2116 316.2772,-53.2485 312.8811,-63.2842 319.8807,-63.2116\"/>\n</g>\n<!-- 8 -->\n<g id=\"node8\" class=\"node\">\n<title>8</title>\n<path fill=\"#ffffff\" stroke=\"#000000\" d=\"M487.5,-53C487.5,-53 398.5,-53 398.5,-53 392.5,-53 386.5,-47 386.5,-41 386.5,-41 386.5,-12 386.5,-12 386.5,-6 392.5,0 398.5,0 398.5,0 487.5,0 487.5,0 493.5,0 499.5,-6 499.5,-12 499.5,-12 499.5,-41 499.5,-41 499.5,-47 493.5,-53 487.5,-53\"/>\n<text text-anchor=\"middle\" x=\"443\" y=\"-37.8\" font-family=\"Helvetica,sans-Serif\" font-size=\"14.00\" fill=\"#000000\">mse = 13.474</text>\n<text text-anchor=\"middle\" x=\"443\" y=\"-22.8\" font-family=\"Helvetica,sans-Serif\" font-size=\"14.00\" fill=\"#000000\">samples = 74</text>\n<text text-anchor=\"middle\" x=\"443\" y=\"-7.8\" font-family=\"Helvetica,sans-Serif\" font-size=\"14.00\" fill=\"#000000\">value = 11.942</text>\n</g>\n<!-- 4&#45;&gt;8 -->\n<g id=\"edge7\" class=\"edge\">\n<title>4&#45;&gt;8</title>\n<path fill=\"none\" stroke=\"#000000\" d=\"M361.4229,-88.9777C373.977,-79.3629 387.6119,-68.9203 400.076,-59.3743\"/>\n<polygon fill=\"#000000\" stroke=\"#000000\" points=\"402.2635,-62.1076 408.0745,-53.2485 398.0073,-56.5502 402.2635,-62.1076\"/>\n</g>\n</g>\n</svg>\n"
          },
          "metadata": {
            "tags": []
          },
          "execution_count": 62
        }
      ]
    },
    {
      "cell_type": "markdown",
      "metadata": {
        "id": "A0xJPRgLlo5z"
      },
      "source": [
        "Let’s see how the tree represented in the figure above makes predictions. \n",
        "\n",
        "Suppose you have an obersation with a RM (average number of rooms per dwelling) of 4. \n",
        "\n",
        "In this case, you fall in the first leaf at your right. The prediction will be 38.474.\n",
        "\n",
        "Suppose you have an obversation with a RM (average number of rooms per dwelling) of 6 and LSTAT (% lower status of the population) of 14.\n",
        "\n",
        "In this case, you will fall in the first node at your left. After you will answer to the second question about the LSTAT. In our case, 14. You will fall in the last question about RM again. And we have 6, and fall in the last node which is the leaf. The prediction will be 21.75."
      ]
    }
  ]
}