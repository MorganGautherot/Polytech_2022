{
  "nbformat": 4,
  "nbformat_minor": 0,
  "metadata": {
    "colab": {
      "name": "AdaBoost.ipynb",
      "provenance": [],
      "collapsed_sections": []
    },
    "kernelspec": {
      "display_name": "Python 3",
      "language": "python",
      "name": "python3"
    },
    "language_info": {
      "codemirror_mode": {
        "name": "ipython",
        "version": 3
      },
      "file_extension": ".py",
      "mimetype": "text/x-python",
      "name": "python",
      "nbconvert_exporter": "python",
      "pygments_lexer": "ipython3",
      "version": "3.6.6"
    }
  },
  "cells": [
    {
      "cell_type": "markdown",
      "metadata": {
        "id": "view-in-github"
      },
      "source": [
        "<a href=\"https://colab.research.google.com/github/MorganGautherot/Machine_Learning_Courses/blob/master/Random_Forest_%26_boosting.ipynb\" target=\"_parent\"><img src=\"https://colab.research.google.com/assets/colab-badge.svg\" alt=\"Open In Colab\"/></a>"
      ]
    },
    {
      "cell_type": "markdown",
      "metadata": {
        "id": "Hg3T8Kt4v4ej"
      },
      "source": [
        "# AdaBoost"
      ]
    },
    {
      "cell_type": "markdown",
      "metadata": {
        "id": "M46qWfm-_DUb"
      },
      "source": [
        "Now you have a better understanding of the decision tree and random forest. We will create trees in an iterative way, each new tree having the objective to reduce the error of the previously created forest. you will use this algrotihm to obtain more accurate predictions for regression and classification."
      ]
    },
    {
      "cell_type": "markdown",
      "metadata": {
        "id": "sbGVpH-mARTR"
      },
      "source": [
        "### Preliminaries"
      ]
    },
    {
      "cell_type": "code",
      "metadata": {
        "id": "m0aWG9rH-Pa9"
      },
      "source": [
        "# Load the library with the boston dataset\n",
        "from sklearn.datasets import load_boston\n",
        "\n",
        "# Load scikit's AdaBoost regressor library\n",
        "from sklearn.ensemble import AdaBoostRegressor\n",
        "\n",
        "# Importation of the decision tree algorithom for regression\n",
        "from sklearn.tree import DecisionTreeRegressor\n",
        "\n",
        "# Load pandas\n",
        "import pandas as pd\n",
        "\n",
        "# Load numpy\n",
        "import numpy as np\n",
        "\n",
        "# Compute mean absolue error\n",
        "from sklearn.metrics import mean_absolute_error\n",
        "\n",
        "import matplotlib.pyplot as plt\n",
        "\n",
        "# Set random seed\n",
        "np.random.seed(0)"
      ],
      "execution_count": null,
      "outputs": []
    },
    {
      "cell_type": "markdown",
      "metadata": {
        "id": "rkpst1AiAUz6"
      },
      "source": [
        "### Load data"
      ]
    },
    {
      "cell_type": "code",
      "metadata": {
        "id": "1EG_qEfJAOXX"
      },
      "source": [
        "# Data frame for ou regression example\n",
        "boston = load_boston()\n",
        "\n",
        "# Create a dataframe with the four feature variables\n",
        "df = pd.DataFrame(boston.data, columns=boston.feature_names)\n",
        "\n",
        "# View the top 5 rows\n",
        "df.head()"
      ],
      "execution_count": null,
      "outputs": []
    },
    {
      "cell_type": "code",
      "metadata": {
        "id": "nSIEC2SiAdez"
      },
      "source": [
        "# Add a new column with the price of each house, this is what we are going to try to predict\n",
        "df['PRICE'] = boston.target\n",
        "\n",
        "# View the top 5 rows\n",
        "df.head()"
      ],
      "execution_count": null,
      "outputs": []
    },
    {
      "cell_type": "markdown",
      "metadata": {
        "id": "wXFisfYtAbR3"
      },
      "source": [
        "### Train Test Split"
      ]
    },
    {
      "cell_type": "markdown",
      "metadata": {
        "id": "J_LOrn97wWXK"
      },
      "source": [
        "Use `train_test_split` to split your data into train and test dataset. \n",
        "\n",
        "If you need help feel free to check the [documentation](https://scikit-learn.org/stable/modules/generated/sklearn.model_selection.train_test_split.html)."
      ]
    },
    {
      "cell_type": "code",
      "metadata": {
        "id": "Cy-XT1cbAsog"
      },
      "source": [
        "from sklearn.model_selection import train_test_split\n",
        "\n",
        "### Your code start here ###\n",
        "\n",
        "# Use .iloc to select only X data\n",
        "X = \n",
        "\n",
        "# Use pd.factorize the target value into 0, 1, 2 classes.\n",
        "y = \n",
        "\n",
        "# split train test using skleanr test_size = 0.33, and random_state = 42\n",
        "X_train, X_test, y_train, y_test = \n",
        "\n",
        "### Your code end here ###"
      ],
      "execution_count": null,
      "outputs": []
    },
    {
      "cell_type": "code",
      "metadata": {
        "id": "Iso1-J9pBNpw"
      },
      "source": [
        "# Show the number of observations for the test and training dataframes\n",
        "print('Number of observations in the training data:', len(X_train))\n",
        "print('Number of observations in the test data:',len(X_test))"
      ],
      "execution_count": null,
      "outputs": []
    },
    {
      "cell_type": "markdown",
      "metadata": {
        "id": "ZWeGvQVxCnsi"
      },
      "source": [
        "### Train model"
      ]
    },
    {
      "cell_type": "markdown",
      "metadata": {
        "id": "K-IEY77A3ziL"
      },
      "source": [
        "If you need help feel free to check the [documentation](https://scikit-learn.org/stable/modules/generated/sklearn.ensemble.AdaBoostRegressor.html#sklearn.ensemble.AdaBoostRegressor)."
      ]
    },
    {
      "cell_type": "code",
      "metadata": {
        "id": "r7uKtzARBWfO"
      },
      "source": [
        "### Your code start here ###\n",
        "\n",
        "# Instantiate model with decision tree regressor with 1 depth max and 2 leaf node max\n",
        "# there are 1000 decision trees and random state = 42\n",
        "ada = \n",
        "\n",
        "# Train the model on training data\n",
        "\n",
        "\n",
        "### Your code end here ###"
      ],
      "execution_count": null,
      "outputs": []
    },
    {
      "cell_type": "markdown",
      "metadata": {
        "id": "TK4YfEmeDK51"
      },
      "source": [
        "### Prediction on train and test set"
      ]
    },
    {
      "cell_type": "code",
      "metadata": {
        "id": "L-0FF8T-DPvK"
      },
      "source": [
        "### Your code start here ###\n",
        "\n",
        "# Use the forest's predict method on the test data\n",
        "y_predict_train = \n",
        "y_predict_test = \n",
        "\n",
        "### Your code end here ###"
      ],
      "execution_count": null,
      "outputs": []
    },
    {
      "cell_type": "markdown",
      "metadata": {
        "id": "2i-NQdRBDUWc"
      },
      "source": [
        "### Compute accuracy for Training and Testing prediction"
      ]
    },
    {
      "cell_type": "markdown",
      "metadata": {
        "id": "6Uuq1CIQxUOW"
      },
      "source": [
        "Now it's time to compute `mean_absolute_score`.\n",
        "\n",
        "Feel free to check the [doc](https://scikit-learn.org/stable/modules/generated/sklearn.metrics.mean_absolute_error.html) if you need more informations "
      ]
    },
    {
      "cell_type": "code",
      "metadata": {
        "id": "H88Lb4ksCvTg"
      },
      "source": [
        "### Your code start here ###\n",
        "accuracy_train = \n",
        "accuracy_test = \n",
        "### Your code end here ###\n",
        "\n",
        "print(accuracy_train)\n",
        "print(accuracy_test)"
      ],
      "execution_count": null,
      "outputs": []
    }
  ]
}