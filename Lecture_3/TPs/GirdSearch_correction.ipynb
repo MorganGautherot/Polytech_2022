{
  "nbformat": 4,
  "nbformat_minor": 0,
  "metadata": {
    "colab": {
      "name": "GirdSearch_correction.ipynb",
      "provenance": [],
      "collapsed_sections": []
    },
    "kernelspec": {
      "name": "python3",
      "display_name": "Python 3"
    },
    "language_info": {
      "name": "python"
    }
  },
  "cells": [
    {
      "cell_type": "markdown",
      "metadata": {
        "id": "BrSbWDowV9Y8"
      },
      "source": [
        "# Packages importation"
      ]
    },
    {
      "cell_type": "code",
      "metadata": {
        "id": "x2otAb6-WA2L"
      },
      "source": [
        "#import all necessary libraries\n",
        "import sklearn\n",
        "from sklearn.datasets import load_breast_cancer\n",
        "from sklearn.metrics import classification_report, confusion_matrix \n",
        "from sklearn.datasets import load_breast_cancer \n",
        "from sklearn.svm import SVC \n",
        "from sklearn.model_selection import GridSearchCV\n",
        "from sklearn.model_selection import train_test_split \n",
        "from sklearn.preprocessing import StandardScaler"
      ],
      "execution_count": 1,
      "outputs": []
    },
    {
      "cell_type": "markdown",
      "metadata": {
        "id": "3m9-JhWiWDRc"
      },
      "source": [
        "# Data importation"
      ]
    },
    {
      "cell_type": "code",
      "metadata": {
        "id": "EQs-qfiVWGQq"
      },
      "source": [
        "#load the dataset and split it into training and testing sets\n",
        "dataset = load_breast_cancer()\n",
        "\n",
        "X=dataset.data\n",
        "Y=dataset.target\n",
        "\n",
        "X_train, X_test, y_train, y_test = train_test_split(X,Y,test_size = 0.10, random_state = 123) \n",
        "\n",
        "scaler = StandardScaler()\n",
        "\n",
        "scaler.fit(X_train)\n",
        "\n",
        "X_train_norm = scaler.transform(X_train)\n",
        "\n",
        "X_test_norm = scaler.transform(X_test)"
      ],
      "execution_count": 20,
      "outputs": []
    },
    {
      "cell_type": "markdown",
      "metadata": {
        "id": "TUGeylv5PHi7"
      },
      "source": [
        "# Using GridSearch with Sklearn"
      ]
    },
    {
      "cell_type": "markdown",
      "metadata": {
        "id": "zACNdMwrPL9G"
      },
      "source": [
        "In almost any Machine Learning project, we train different models on the dataset and select the one with the best performance. However, there is room for improvement as we cannot say for sure that this particular model is best for the problem at hand. Hence, our aim is to improve the model in any way possible. One important factor in the performances of these models are their hyperparameters, once we set appropriate values for these hyperparameters, the performance of a model can improve significantly. In this notebook, we will find out how we can find optimal values for the hyperparameters of a model by using GridSearchCV."
      ]
    },
    {
      "cell_type": "markdown",
      "metadata": {
        "id": "lBZJy3ORQi73"
      },
      "source": [
        "## What is GridSearch ?"
      ]
    },
    {
      "cell_type": "markdown",
      "metadata": {
        "id": "GS6vHEgnQpUp"
      },
      "source": [
        "First, let us understand what is grid search? It is the process of performing hyperparameter tuning in order to determine the optimal values for a given model. As mentioned above, the performance of a model significantly depends on the value of hyperparameters. Note that there is no way to know in advance the best values for hyperparameters so ideally, we need to try all possible values to know the optimal values. Doing this manually could take a considerable amount of time and resources and thus we use GridSearchCV to automate the tuning of hyperparameters.\n",
        "\n",
        "GridSearchCV is a function that comes in Scikit-learn’s(or SK-learn) model_selection package. This function helps to loop through predefined hyperparameters and fit your estimator (model) on your training set. So, in the end, we can select the best parameters from the listed hyperparameters.\n",
        "\n",
        "Feel free to check the [documentation](https://scikit-learn.org/stable/modules/generated/sklearn.model_selection.GridSearchCV.html) to find more information."
      ]
    },
    {
      "cell_type": "markdown",
      "metadata": {
        "id": "szK57SCMSSKe"
      },
      "source": [
        "# How GirdSearch works ?"
      ]
    },
    {
      "cell_type": "markdown",
      "metadata": {
        "id": "0Ui3ivBOSX4Z"
      },
      "source": [
        "As mentioned above, we pass predefined values for hyperparameters to the GridSearchCV function. We do this by defining a dictionary in which we mention a particular hyperparameter along with the values it can take. \n",
        "\n",
        "Here is an example of it :"
      ]
    },
    {
      "cell_type": "code",
      "metadata": {
        "id": "MOYbUJcGO3aW"
      },
      "source": [
        " dict_of_hyperparametrs = { 'C': [0.1, 1, 10, 100, 1000],  \n",
        "                            'gamma': [1, 0.1, 0.01, 0.001, 0.0001], \n",
        "                            'kernel': ['rbf','linear','sigmoid']  }"
      ],
      "execution_count": 21,
      "outputs": []
    },
    {
      "cell_type": "markdown",
      "metadata": {
        "id": "QZsUhIw9SryY"
      },
      "source": [
        "Here C, gamma and kernels are some of the hyperparameters of an SVM model. Note that the rest of the hyperparameters will be set to their default values."
      ]
    },
    {
      "cell_type": "markdown",
      "metadata": {
        "id": "SIfr_Zz-Sv68"
      },
      "source": [
        "GridSearchCV tries all the combinations of the values passed in the dictionary and evaluates the model for each combination using the Cross-Validation method. Hence after using this function we get accuracy/loss for every combination of hyperparameters and we can choose the one with the best performance."
      ]
    },
    {
      "cell_type": "markdown",
      "metadata": {
        "id": "7So9N5DsTdKR"
      },
      "source": [
        "# How to use gridearch ? "
      ]
    },
    {
      "cell_type": "markdown",
      "metadata": {
        "id": "60M1c_PrTjnj"
      },
      "source": [
        "In this section, we shall see how to use GridSearchCV and also find out how it improves the performance of the model.\n",
        "\n",
        "First, let us see some of the various arguments that are taken by GridSearchCV function:\n",
        "\n",
        "**estimator**: Pass the model instance for which you want to check the hyperparameters.\n",
        "\n",
        "**params_grid**: the dictionary object that holds the hyperparameters you want to try\n",
        "\n",
        "**scoring**: evaluation metric that you want to use, you can simply pass a valid string/object of evaluation metric\n",
        "\n",
        "**cv**: number of cross-validation you have to try for each selected set of hyperparameters\n",
        "\n",
        "**verbose**: you can set it to 1 to get the detailed print out while you fit the data to GridSearchCV\n",
        "\n",
        "**n_jobs**: number of processes you wish to run in parallel for this task if it -1 it will use all available processors. "
      ]
    },
    {
      "cell_type": "markdown",
      "metadata": {
        "id": "-PF6866pVQyZ"
      },
      "source": [
        "# Use Girdsearch"
      ]
    },
    {
      "cell_type": "markdown",
      "metadata": {
        "id": "UnulOl-DWUDW"
      },
      "source": [
        "## Train a model with default hyperparameters\n",
        "\n",
        "Initialize support vector machine model for classification using default hyperparameters.\n",
        "\n",
        "Feel free to use the [documentation](https://scikit-learn.org/stable/modules/generated/sklearn.svm.SVR.html#sklearn.svm.SVR)."
      ]
    },
    {
      "cell_type": "code",
      "metadata": {
        "id": "q_eaNqP3SiR2"
      },
      "source": [
        "# train the model on train set without using GridSearchCV \n",
        "model = SVC() "
      ],
      "execution_count": 22,
      "outputs": []
    },
    {
      "cell_type": "markdown",
      "metadata": {
        "id": "TPxzM0bnWk-_"
      },
      "source": [
        "Train the model "
      ]
    },
    {
      "cell_type": "code",
      "metadata": {
        "colab": {
          "base_uri": "https://localhost:8080/"
        },
        "id": "8xmoZMxNXBn5",
        "outputId": "b1ab2d71-5729-411f-eeb6-cb001d1dfb3a"
      },
      "source": [
        "model.fit(X_train_norm, y_train) "
      ],
      "execution_count": 23,
      "outputs": [
        {
          "output_type": "execute_result",
          "data": {
            "text/plain": [
              "SVC()"
            ]
          },
          "metadata": {},
          "execution_count": 23
        }
      ]
    },
    {
      "cell_type": "markdown",
      "metadata": {
        "id": "OkfntpyUXFyM"
      },
      "source": [
        "Make the prediction on the test set"
      ]
    },
    {
      "cell_type": "code",
      "metadata": {
        "id": "r2lIF21cXB48"
      },
      "source": [
        "default_predictions = model.predict(X_test_norm) "
      ],
      "execution_count": 24,
      "outputs": []
    },
    {
      "cell_type": "markdown",
      "metadata": {
        "id": "ErZo2itoXOtI"
      },
      "source": [
        "Use *classification_report* to get the performance of your model.\n",
        "\n",
        "Feel free to use the [documentation](https://scikit-learn.org/stable/modules/generated/sklearn.metrics.classification_report.html)."
      ]
    },
    {
      "cell_type": "code",
      "metadata": {
        "colab": {
          "base_uri": "https://localhost:8080/"
        },
        "id": "Muya1LteXN_l",
        "outputId": "ba832bfd-0df9-46fa-bcaa-00c2771378c1"
      },
      "source": [
        "print(classification_report(y_test, default_predictions)) "
      ],
      "execution_count": 25,
      "outputs": [
        {
          "output_type": "stream",
          "name": "stdout",
          "text": [
            "              precision    recall  f1-score   support\n",
            "\n",
            "           0       1.00      0.96      0.98        24\n",
            "           1       0.97      1.00      0.99        33\n",
            "\n",
            "    accuracy                           0.98        57\n",
            "   macro avg       0.99      0.98      0.98        57\n",
            "weighted avg       0.98      0.98      0.98        57\n",
            "\n"
          ]
        }
      ]
    },
    {
      "cell_type": "markdown",
      "metadata": {
        "id": "k6g_jHX-YIfx"
      },
      "source": [
        "## Train a model with optimized hyperparameters"
      ]
    },
    {
      "cell_type": "markdown",
      "metadata": {
        "id": "4uiz8FHpdEqE"
      },
      "source": [
        "Define a dictionnary call *param_grid* with these hyperparameters \n",
        "\n",
        "**C** : 0.1, 1, 10\n",
        "\n",
        "**gamma** : 0.1, 0.01\n",
        "\n",
        "**kernel** : linear, rbf"
      ]
    },
    {
      "cell_type": "code",
      "metadata": {
        "id": "3o4SC-_uXQqD"
      },
      "source": [
        "# defining parameter range \n",
        "param_grid = {'C': [0.1, 1, 10],\n",
        "              'gamma' : [0.1, 0.01] ,\n",
        "              'kernel': ['linear','rbf']}  "
      ],
      "execution_count": 46,
      "outputs": []
    },
    {
      "cell_type": "markdown",
      "metadata": {
        "id": "G_bMRCCCiH3j"
      },
      "source": [
        "Initialize *Gridsearch* function.\n",
        "\n",
        "Feel free to use the [documentation](https://scikit-learn.org/stable/modules/generated/sklearn.model_selection.GridSearchCV.html)."
      ]
    },
    {
      "cell_type": "code",
      "metadata": {
        "id": "4Zp31_s6iD29"
      },
      "source": [
        "grid = GridSearchCV(SVC(), param_grid, verbose=3) "
      ],
      "execution_count": 47,
      "outputs": []
    },
    {
      "cell_type": "markdown",
      "metadata": {
        "id": "9YepkLohibdp"
      },
      "source": [
        "Train your gridsearch "
      ]
    },
    {
      "cell_type": "code",
      "metadata": {
        "colab": {
          "base_uri": "https://localhost:8080/"
        },
        "id": "au8DISA5iZYW",
        "outputId": "8398d3ff-6849-4ba0-95d2-5de0c47d2bbe"
      },
      "source": [
        "# fitting the model for grid search \n",
        "grid.fit(X_train_norm, y_train) "
      ],
      "execution_count": 48,
      "outputs": [
        {
          "output_type": "stream",
          "name": "stdout",
          "text": [
            "Fitting 5 folds for each of 12 candidates, totalling 60 fits\n",
            "[CV 1/5] END ...C=0.1, gamma=0.1, kernel=linear;, score=1.000 total time=   0.0s\n",
            "[CV 2/5] END ...C=0.1, gamma=0.1, kernel=linear;, score=0.961 total time=   0.0s\n",
            "[CV 3/5] END ...C=0.1, gamma=0.1, kernel=linear;, score=0.990 total time=   0.0s\n",
            "[CV 4/5] END ...C=0.1, gamma=0.1, kernel=linear;, score=0.980 total time=   0.0s\n",
            "[CV 5/5] END ...C=0.1, gamma=0.1, kernel=linear;, score=0.951 total time=   0.0s\n",
            "[CV 1/5] END ......C=0.1, gamma=0.1, kernel=rbf;, score=0.990 total time=   0.0s\n",
            "[CV 2/5] END ......C=0.1, gamma=0.1, kernel=rbf;, score=0.951 total time=   0.0s\n",
            "[CV 3/5] END ......C=0.1, gamma=0.1, kernel=rbf;, score=0.922 total time=   0.0s\n",
            "[CV 4/5] END ......C=0.1, gamma=0.1, kernel=rbf;, score=0.951 total time=   0.0s\n",
            "[CV 5/5] END ......C=0.1, gamma=0.1, kernel=rbf;, score=0.902 total time=   0.0s\n",
            "[CV 1/5] END ..C=0.1, gamma=0.01, kernel=linear;, score=1.000 total time=   0.0s\n",
            "[CV 2/5] END ..C=0.1, gamma=0.01, kernel=linear;, score=0.961 total time=   0.0s\n",
            "[CV 3/5] END ..C=0.1, gamma=0.01, kernel=linear;, score=0.990 total time=   0.0s\n",
            "[CV 4/5] END ..C=0.1, gamma=0.01, kernel=linear;, score=0.980 total time=   0.0s\n",
            "[CV 5/5] END ..C=0.1, gamma=0.01, kernel=linear;, score=0.951 total time=   0.0s\n",
            "[CV 1/5] END .....C=0.1, gamma=0.01, kernel=rbf;, score=0.990 total time=   0.0s\n",
            "[CV 2/5] END .....C=0.1, gamma=0.01, kernel=rbf;, score=0.932 total time=   0.0s\n",
            "[CV 3/5] END .....C=0.1, gamma=0.01, kernel=rbf;, score=0.951 total time=   0.0s\n",
            "[CV 4/5] END .....C=0.1, gamma=0.01, kernel=rbf;, score=0.941 total time=   0.0s\n",
            "[CV 5/5] END .....C=0.1, gamma=0.01, kernel=rbf;, score=0.931 total time=   0.0s\n",
            "[CV 1/5] END .....C=1, gamma=0.1, kernel=linear;, score=0.990 total time=   0.0s\n",
            "[CV 2/5] END .....C=1, gamma=0.1, kernel=linear;, score=0.971 total time=   0.0s\n",
            "[CV 3/5] END .....C=1, gamma=0.1, kernel=linear;, score=0.980 total time=   0.0s\n",
            "[CV 4/5] END .....C=1, gamma=0.1, kernel=linear;, score=0.971 total time=   0.0s\n",
            "[CV 5/5] END .....C=1, gamma=0.1, kernel=linear;, score=0.961 total time=   0.0s\n",
            "[CV 1/5] END ........C=1, gamma=0.1, kernel=rbf;, score=0.961 total time=   0.0s\n",
            "[CV 2/5] END ........C=1, gamma=0.1, kernel=rbf;, score=0.971 total time=   0.0s\n",
            "[CV 3/5] END ........C=1, gamma=0.1, kernel=rbf;, score=0.951 total time=   0.0s\n",
            "[CV 4/5] END ........C=1, gamma=0.1, kernel=rbf;, score=0.971 total time=   0.0s\n",
            "[CV 5/5] END ........C=1, gamma=0.1, kernel=rbf;, score=0.922 total time=   0.0s\n",
            "[CV 1/5] END ....C=1, gamma=0.01, kernel=linear;, score=0.990 total time=   0.0s\n",
            "[CV 2/5] END ....C=1, gamma=0.01, kernel=linear;, score=0.971 total time=   0.0s\n",
            "[CV 3/5] END ....C=1, gamma=0.01, kernel=linear;, score=0.980 total time=   0.0s\n",
            "[CV 4/5] END ....C=1, gamma=0.01, kernel=linear;, score=0.971 total time=   0.0s\n",
            "[CV 5/5] END ....C=1, gamma=0.01, kernel=linear;, score=0.961 total time=   0.0s\n",
            "[CV 1/5] END .......C=1, gamma=0.01, kernel=rbf;, score=0.990 total time=   0.0s\n",
            "[CV 2/5] END .......C=1, gamma=0.01, kernel=rbf;, score=0.951 total time=   0.0s\n",
            "[CV 3/5] END .......C=1, gamma=0.01, kernel=rbf;, score=0.990 total time=   0.0s\n",
            "[CV 4/5] END .......C=1, gamma=0.01, kernel=rbf;, score=0.971 total time=   0.0s\n",
            "[CV 5/5] END .......C=1, gamma=0.01, kernel=rbf;, score=0.961 total time=   0.0s\n",
            "[CV 1/5] END ....C=10, gamma=0.1, kernel=linear;, score=0.990 total time=   0.0s\n",
            "[CV 2/5] END ....C=10, gamma=0.1, kernel=linear;, score=0.981 total time=   0.0s\n",
            "[CV 3/5] END ....C=10, gamma=0.1, kernel=linear;, score=0.951 total time=   0.0s\n",
            "[CV 4/5] END ....C=10, gamma=0.1, kernel=linear;, score=0.961 total time=   0.0s\n",
            "[CV 5/5] END ....C=10, gamma=0.1, kernel=linear;, score=0.931 total time=   0.0s\n",
            "[CV 1/5] END .......C=10, gamma=0.1, kernel=rbf;, score=0.951 total time=   0.0s\n",
            "[CV 2/5] END .......C=10, gamma=0.1, kernel=rbf;, score=0.971 total time=   0.0s\n",
            "[CV 3/5] END .......C=10, gamma=0.1, kernel=rbf;, score=0.922 total time=   0.0s\n",
            "[CV 4/5] END .......C=10, gamma=0.1, kernel=rbf;, score=0.951 total time=   0.0s\n",
            "[CV 5/5] END .......C=10, gamma=0.1, kernel=rbf;, score=0.931 total time=   0.0s\n",
            "[CV 1/5] END ...C=10, gamma=0.01, kernel=linear;, score=0.990 total time=   0.0s\n",
            "[CV 2/5] END ...C=10, gamma=0.01, kernel=linear;, score=0.981 total time=   0.0s\n",
            "[CV 3/5] END ...C=10, gamma=0.01, kernel=linear;, score=0.951 total time=   0.0s\n",
            "[CV 4/5] END ...C=10, gamma=0.01, kernel=linear;, score=0.961 total time=   0.0s\n",
            "[CV 5/5] END ...C=10, gamma=0.01, kernel=linear;, score=0.931 total time=   0.0s\n",
            "[CV 1/5] END ......C=10, gamma=0.01, kernel=rbf;, score=1.000 total time=   0.0s\n",
            "[CV 2/5] END ......C=10, gamma=0.01, kernel=rbf;, score=0.971 total time=   0.0s\n",
            "[CV 3/5] END ......C=10, gamma=0.01, kernel=rbf;, score=1.000 total time=   0.0s\n",
            "[CV 4/5] END ......C=10, gamma=0.01, kernel=rbf;, score=0.971 total time=   0.0s\n",
            "[CV 5/5] END ......C=10, gamma=0.01, kernel=rbf;, score=0.961 total time=   0.0s\n"
          ]
        },
        {
          "output_type": "execute_result",
          "data": {
            "text/plain": [
              "GridSearchCV(estimator=SVC(),\n",
              "             param_grid={'C': [0.1, 1, 10], 'gamma': [0.1, 0.01],\n",
              "                         'kernel': ['linear', 'rbf']},\n",
              "             verbose=3)"
            ]
          },
          "metadata": {},
          "execution_count": 48
        }
      ]
    },
    {
      "cell_type": "markdown",
      "metadata": {
        "id": "1i8HNB1vis4H"
      },
      "source": [
        "Print the parameter for the most performant model."
      ]
    },
    {
      "cell_type": "code",
      "metadata": {
        "colab": {
          "base_uri": "https://localhost:8080/"
        },
        "id": "4My0K893iuX2",
        "outputId": "fe257224-4d38-4a2a-f580-1afce8766295"
      },
      "source": [
        "# print best parameter after tuning \n",
        "print(grid.best_params_) \n",
        "grid_predictions = grid.predict(X_test_norm) "
      ],
      "execution_count": 49,
      "outputs": [
        {
          "output_type": "stream",
          "name": "stdout",
          "text": [
            "{'C': 10, 'gamma': 0.01, 'kernel': 'rbf'}\n"
          ]
        }
      ]
    },
    {
      "cell_type": "markdown",
      "metadata": {
        "id": "9jD_gTWOiqmQ"
      },
      "source": [
        "Use *classification_report* to get the performance of your model.\n",
        "\n",
        "Feel free to use the [documentation](https://scikit-learn.org/stable/modules/generated/sklearn.metrics.classification_report.html)."
      ]
    },
    {
      "cell_type": "code",
      "metadata": {
        "colab": {
          "base_uri": "https://localhost:8080/"
        },
        "id": "2oDURNBEipd_",
        "outputId": "0fa252d5-8b76-4933-a7a1-4a0fe53cd93d"
      },
      "source": [
        "# print classification report \n",
        "print(classification_report(y_test, grid_predictions))"
      ],
      "execution_count": 50,
      "outputs": [
        {
          "output_type": "stream",
          "name": "stdout",
          "text": [
            "              precision    recall  f1-score   support\n",
            "\n",
            "           0       1.00      0.96      0.98        24\n",
            "           1       0.97      1.00      0.99        33\n",
            "\n",
            "    accuracy                           0.98        57\n",
            "   macro avg       0.99      0.98      0.98        57\n",
            "weighted avg       0.98      0.98      0.98        57\n",
            "\n"
          ]
        }
      ]
    },
    {
      "cell_type": "code",
      "metadata": {
        "id": "KwPq8n_9jbQz"
      },
      "source": [
        ""
      ],
      "execution_count": null,
      "outputs": []
    }
  ]
}